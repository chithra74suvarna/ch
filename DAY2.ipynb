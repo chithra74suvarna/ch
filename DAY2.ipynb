{
  "nbformat": 4,
  "nbformat_minor": 0,
  "metadata": {
    "colab": {
      "provenance": [],
      "mount_file_id": "1e5RO7AtmjPpJXGUQY_vQudTYEeoGYvWH",
      "authorship_tag": "ABX9TyM12+shK0QBM2s/kce8WVj3",
      "include_colab_link": true
    },
    "kernelspec": {
      "name": "python3",
      "display_name": "Python 3"
    },
    "language_info": {
      "name": "python"
    }
  },
  "cells": [
    {
      "cell_type": "markdown",
      "metadata": {
        "id": "view-in-github",
        "colab_type": "text"
      },
      "source": [
        "<a href=\"https://colab.research.google.com/github/chithra74suvarna/ch/blob/master/DAY2.ipynb\" target=\"_parent\"><img src=\"https://colab.research.google.com/assets/colab-badge.svg\" alt=\"Open In Colab\"/></a>"
      ]
    },
    {
      "cell_type": "code",
      "execution_count": 1,
      "metadata": {
        "id": "LyB9vY3Udidc"
      },
      "outputs": [],
      "source": [
        "import tensorflow as tf\n",
        "from tensorflow import keras\n",
        "from tensorflow.keras import layers\n",
        "from tensorflow.keras.preprocessing.image import ImageDataGenerator\n",
        "IMG_SIZE = 224\n",
        "BATCH_SIZE = 32\n"
      ]
    },
    {
      "cell_type": "code",
      "source": [
        "train_datagen = ImageDataGenerator(rescale=1./255,validation_split=0.2)\n",
        "train_generator = train_datagen.flow_from_directory(\n",
        "    '/content/drive/MyDrive/Grapevine_Leaves_Image_Dataset',\n",
        "    target_size=(IMG_SIZE,IMG_SIZE),\n",
        "    batch_size=BATCH_SIZE,\n",
        "    class_mode='categorical',\n",
        "    subset='training'\n",
        ")\n",
        "\n",
        "val_generator = train_datagen.flow_from_directory(\n",
        "     '/content/drive/MyDrive/Grapevine_Leaves_Image_Dataset',\n",
        "    target_size=(IMG_SIZE,IMG_SIZE),\n",
        "    batch_size=BATCH_SIZE,\n",
        "    class_mode='categorical',\n",
        "    subset='validation'\n",
        ")"
      ],
      "metadata": {
        "colab": {
          "base_uri": "https://localhost:8080/"
        },
        "id": "tXYs_f7gelsj",
        "outputId": "66befd0e-c02d-42c0-b16a-a1d541f558f5"
      },
      "execution_count": 7,
      "outputs": [
        {
          "output_type": "stream",
          "name": "stdout",
          "text": [
            "Found 562 images belonging to 7 classes.\n",
            "Found 140 images belonging to 7 classes.\n"
          ]
        }
      ]
    },
    {
      "cell_type": "code",
      "source": [
        "# Define the model\n",
        "model = keras.Sequential([\n",
        "    layers.Conv2D(32, (3,3),activation='relu',input_shape=(IMG_SIZE,IMG_SIZE,3)),\n",
        "    layers.MaxPooling2D(2,2),\n",
        "    layers.Conv2D(64,(3,3),activation='relu'),\n",
        "    layers.MaxPooling2D(2,2),\n",
        "    layers.Conv2D(128,(3,3),activation='relu'),\n",
        "    layers.MaxPooling2D(2,2),\n",
        "    layers.Flatten(),\n",
        "    layers.Dense(128,activation='relu'),\n",
        "    layers.Dense(1,activation='sigmoid') #output layer\n",
        "])"
      ],
      "metadata": {
        "id": "7KHbrlpymmJR"
      },
      "execution_count": 8,
      "outputs": []
    },
    {
      "cell_type": "code",
      "source": [
        "model.compile(optimizer='adam',loss='binary_crossentropy',metrics=['accuracy'])"
      ],
      "metadata": {
        "id": "eiwRKysnmw__"
      },
      "execution_count": 9,
      "outputs": []
    },
    {
      "cell_type": "code",
      "source": [
        "model.fit(train_generator, epochs=5, validation_data=val_generator)"
      ],
      "metadata": {
        "colab": {
          "base_uri": "https://localhost:8080/"
        },
        "id": "DSm1bvhim1gZ",
        "outputId": "288f0f55-a0d0-4044-9820-c98fb7516ef4"
      },
      "execution_count": 11,
      "outputs": [
        {
          "output_type": "stream",
          "name": "stdout",
          "text": [
            "Epoch 1/5\n",
            "18/18 [==============================] - 208s 11s/step - loss: 0.7050 - accuracy: 0.8559 - val_loss: 0.4104 - val_accuracy: 0.8571\n",
            "Epoch 2/5\n",
            "18/18 [==============================] - 79s 4s/step - loss: 0.4114 - accuracy: 0.8571 - val_loss: 0.4110 - val_accuracy: 0.8571\n",
            "Epoch 3/5\n",
            "18/18 [==============================] - 77s 4s/step - loss: 0.4105 - accuracy: 0.8571 - val_loss: 0.4105 - val_accuracy: 0.8571\n",
            "Epoch 4/5\n",
            "18/18 [==============================] - 76s 4s/step - loss: 0.4103 - accuracy: 0.8571 - val_loss: 0.4102 - val_accuracy: 0.8571\n",
            "Epoch 5/5\n",
            "18/18 [==============================] - 80s 4s/step - loss: 0.4102 - accuracy: 0.8571 - val_loss: 0.4102 - val_accuracy: 0.8571\n"
          ]
        },
        {
          "output_type": "execute_result",
          "data": {
            "text/plain": [
              "<keras.src.callbacks.History at 0x7bed46a37c10>"
            ]
          },
          "metadata": {},
          "execution_count": 11
        }
      ]
    },
    {
      "cell_type": "code",
      "source": [
        "model.save(\"Model.h5\",\"label.txt\")\n"
      ],
      "metadata": {
        "colab": {
          "base_uri": "https://localhost:8080/"
        },
        "id": "lydBPptfo-Jw",
        "outputId": "cc31f841-7476-4bf8-c4c0-7ec2ea82a6b6"
      },
      "execution_count": 12,
      "outputs": [
        {
          "output_type": "stream",
          "name": "stderr",
          "text": [
            "/usr/local/lib/python3.10/dist-packages/keras/src/engine/training.py:3103: UserWarning: You are saving your model as an HDF5 file via `model.save()`. This file format is considered legacy. We recommend using instead the native Keras format, e.g. `model.save('my_model.keras')`.\n",
            "  saving_api.save_model(\n"
          ]
        }
      ]
    },
    {
      "cell_type": "code",
      "source": [
        "from tensorflow.keras.models import load_model\n",
        "from tensorflow.keras.utils import load_img\n",
        "from tensorflow.keras.preprocessing import image # Import the image module\n",
        "import numpy as np\n",
        "\n",
        "# Load the saved model\n",
        "model = load_model('/content/Model.h5')\n",
        "\n",
        "#Load and preprocess the test image\n",
        "test_image_path = '/content/drive/MyDrive/Grapevine_Leaves_Image_Dataset/Ak/Ak (1).png' # Add the appropriate file extension (e.g., .jpg, .png)\n",
        "img = load_img(test_image_path, target_size=(224, 224))  # Resize the image to 224x224\n",
        "img_array = image.img_to_array(img) # Convert to numpy array\n",
        "img_array = np.expand_dims(img_array, axis=0)\n",
        "\n",
        "#Add batch dimension\n",
        "img_array /=255.  #Normalize the pixel values\n",
        "#make prediction\n",
        "prediction = model.predict(img_array)\n",
        "#pront the prediction\n",
        "print(prediction)"
      ],
      "metadata": {
        "colab": {
          "base_uri": "https://localhost:8080/"
        },
        "id": "vDlkNb1hpOeg",
        "outputId": "19bd0718-176e-4320-ac87-1886be11d4be"
      },
      "execution_count": 20,
      "outputs": [
        {
          "output_type": "stream",
          "name": "stdout",
          "text": [
            "1/1 [==============================] - 0s 132ms/step\n",
            "[[0.13950127]]\n"
          ]
        }
      ]
    },
    {
      "cell_type": "code",
      "source": [
        "if prediction < 0.5:\n",
        "    print(\"prediction: No tumor (Probability:\", prediction[0][0])\n",
        "else:\n",
        "    print(\"Prediction: Tumor present(Probability:\", prediction[0][0])"
      ],
      "metadata": {
        "colab": {
          "base_uri": "https://localhost:8080/"
        },
        "id": "cG-SJVxPua7X",
        "outputId": "7ce3cf5e-a877-4887-9e6f-d2666931abed"
      },
      "execution_count": 22,
      "outputs": [
        {
          "output_type": "stream",
          "name": "stdout",
          "text": [
            "prediction: No tumor (Probability: 0.13950127\n"
          ]
        }
      ]
    },
    {
      "cell_type": "code",
      "source": [
        "# ... previous code ...\n",
        "\n",
        "# Make predictions and store the result\n",
        "predictions = model.predict(img_array)\n",
        "\n",
        "# Print the prediction\n",
        "print(predictions)\n",
        "\n",
        "# Access the predicted class (assuming binary classification)\n",
        "if predictions[0][0] < 0.5:\n",
        "    print('It is a leaves')\n",
        "else:\n",
        "    print('It is not a leaves')"
      ],
      "metadata": {
        "colab": {
          "base_uri": "https://localhost:8080/"
        },
        "id": "EgHEm3fouky8",
        "outputId": "b2eca530-a3c8-4394-da03-da0e27de96b6"
      },
      "execution_count": 24,
      "outputs": [
        {
          "output_type": "stream",
          "name": "stdout",
          "text": [
            "1/1 [==============================] - 0s 54ms/step\n",
            "[[0.13950127]]\n",
            "It is a leaves\n"
          ]
        }
      ]
    }
  ]
}